{
 "cells": [
  {
   "cell_type": "code",
   "execution_count": 1,
   "id": "5c0dfbf2-4165-426a-b74a-7aedfdad0e77",
   "metadata": {},
   "outputs": [
    {
     "name": "stdout",
     "output_type": "stream",
     "text": [
      "Writing app.py\n"
     ]
    }
   ],
   "source": [
    "%%writefile app.py\n",
    "import streamlit as st\n",
    "import plotly.express as px \n",
    "\n",
    "st.set_page_config(\n",
    "\n",
    "    layout=\"wide\" ,\n",
    "    page_title= \"frist_dash_board\"\n",
    ")\n",
    "df = px.data.tips()\n",
    "\n",
    "## to creat the side bar\n",
    "x=st.sidebar.checkbox(\"Show Data\" , False , key=1) ## the False here mean i make the square behind the \"Show Data\" without check mark\n",
    "\n",
    "\n",
    "\n",
    "day =st.sidebar.selectbox(\"select day\", df['day'].unique()) ## selectbox here like drop down minue and the name of it selectday\n",
    "# and the df['day'].unique ==> to make the data unique in the drop minue \n",
    "\n",
    "\n",
    "time= st.sidebar.selectbox('Select Meal Time', df['time'].unique()) ## also like the above one \n",
    "\n",
    "size = st.sidebar.radio(\"size\", sorted(df['size'].unique()) , 5 , horizontal=True )\n",
    "\n",
    "if  x :   ## ===>> here mean if x mean if i put on x on the dashboard or put check mark # so this one it depends on the first thing\n",
    "    # that i make it from above in the x variable \n",
    "    st.header(\"Dataset at the dash board\")\n",
    "    st.dataframe(df.head(8))\n",
    "\n",
    "\n",
    "## any page in streamlit can be divided into columns \n",
    "\n",
    "col1 , col2 , col3 = st.columns([5,2,5])\n",
    "\n",
    "with col1 :   ## mean inside col1\n",
    "    new_df1 = df[df['day'] == day] ### so here in this one , it when click on the day he want it will appear the data of \n",
    "    #of that day  in the histogram down \n",
    "\n",
    "    \n",
    "    fig = px.histogram(new_df1, x = 'total_bill', color = 'sex',\n",
    "                       title=f'totalt bill for {day}day'.title(), width = 700)\n",
    "\n",
    "    \n",
    "    st.plotly_chart(fig,use_container_width=True) ### is a function inside plotly to turn on the figures on streamlit \n",
    "    new_df1 = df[df['size'] == size]\n",
    "    fig = px.pie(new_df1, names = 'time', color = 'sex',\n",
    "                 title=f'count of each meal time according to {size} dishes'.title()).update_traces(textinfo='value')\n",
    "    st.plotly_chart(fig,use_container_width=True)\n",
    "\n",
    "with col3 : \n",
    "    new_df2 = df[df['time']==time]\n",
    "    fig2= px.scatter(new_df2, x =\"total_bill\", y =\"tip\",template=\"presentation\",title=f'correlation between total bill and tip on {time}')\n",
    "    st.plotly_chart(fig2 , use_container_width=True)"
   ]
  }
 ],
 "metadata": {
  "kernelspec": {
   "display_name": "Python 3 (ipykernel)",
   "language": "python",
   "name": "python3"
  },
  "language_info": {
   "codemirror_mode": {
    "name": "ipython",
    "version": 3
   },
   "file_extension": ".py",
   "mimetype": "text/x-python",
   "name": "python",
   "nbconvert_exporter": "python",
   "pygments_lexer": "ipython3",
   "version": "3.11.9"
  }
 },
 "nbformat": 4,
 "nbformat_minor": 5
}
